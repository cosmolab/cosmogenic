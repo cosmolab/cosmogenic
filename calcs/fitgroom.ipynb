{
 "metadata": {
  "name": ""
 },
 "nbformat": 3,
 "nbformat_minor": 0,
 "worksheets": [
  {
   "cells": [
    {
     "cell_type": "code",
     "collapsed": false,
     "input": [
      "%pylab inline"
     ],
     "language": "python",
     "metadata": {},
     "outputs": [
      {
       "output_type": "stream",
       "stream": "stdout",
       "text": [
        "Populating the interactive namespace from numpy and matplotlib\n"
       ]
      }
     ],
     "prompt_number": 1
    },
    {
     "cell_type": "code",
     "collapsed": false,
     "input": [
      "range_data = np.array([0.8516, 1.542, 2.866, 5.70, 9.15, 26.76, 36.96, 58.79, 93.32,\n",
      "                152.4, 211.5, 441.8, 553.4, 771.2, 1088, 1599, 2095, 3998,\n",
      "                4920, 6724, 9360, 13620, 17760, 33430, 40840, 54950, 74590,\n",
      "                104000, 130200, 212900,\n",
      "                2.453e5,\n",
      "                2.990e5,\n",
      "                3.616e5,\n",
      "                4.384e5,\n",
      "                4.957e5,\n",
      "                6.400e5,\n",
      "                6.877e5,\n",
      "                7.603e5,\n",
      "                8.379e5,\n",
      "                9.264e5,\n",
      "                9.894e5,\n",
      "                1.141e6,\n",
      "                1.189e6])\n",
      "\n",
      "momentum_data = np.array([47.04, 56.16, 68.02, 85.1, 100, 152.7, 176.4, 221.8,\n",
      "                    286.8, 391.7, 494.5, 899.5, 1101, 1502, 2103, 3104, 4104,\n",
      "                    8105, 10110, 14110, 20110, 30110, 40110, 80110, 100100,\n",
      "                    140100, 200100, 300100, 400100, 800100,\n",
      "                    1e6,\n",
      "                    1.4e6,\n",
      "                    2e6,\n",
      "                    3e6,\n",
      "                    4e6,\n",
      "                    8e6,\n",
      "                    1e7,\n",
      "                    1.4e7,\n",
      "                    2e7,\n",
      "                    3e7,\n",
      "                    4e7,\n",
      "                    8e7,\n",
      "                    1e8])"
     ],
     "language": "python",
     "metadata": {},
     "outputs": [],
     "prompt_number": 300
    },
    {
     "cell_type": "code",
     "collapsed": false,
     "input": [
      "plot(np.log(range_data), np.log(momentum_data), 'k.')\n",
      "xlim((-2, 15))\n",
      "xlabel(\"log range\")\n",
      "ylabel(\"log momentum\")"
     ],
     "language": "python",
     "metadata": {},
     "outputs": [
      {
       "metadata": {},
       "output_type": "pyout",
       "prompt_number": 305,
       "text": [
        "<matplotlib.text.Text at 0x1430ac10>"
       ]
      },
      {
       "metadata": {},
       "output_type": "display_data",
       "png": "[encoded data removed]",
       "text": [
        "<matplotlib.figure.Figure at 0x139c3090>"
       ]
      }
     ],
     "prompt_number": 305
    },
    {
     "cell_type": "code",
     "collapsed": false,
     "input": [
      "# find the slope and intercept for the low range data"
     ],
     "language": "python",
     "metadata": {},
     "outputs": [],
     "prompt_number": 222
    },
    {
     "cell_type": "code",
     "collapsed": false,
     "input": [
      "slope = (log(momentum_data[3]) - log(momentum_data[0])) / (log(range_data[3]) - log(range_data[0]))\n",
      "slope"
     ],
     "language": "python",
     "metadata": {},
     "outputs": [
      {
       "metadata": {},
       "output_type": "pyout",
       "prompt_number": 345,
       "text": [
        "0.31183384474750259"
       ]
      }
     ],
     "prompt_number": 345
    },
    {
     "cell_type": "code",
     "collapsed": false,
     "input": [
      "rint = log(momentum_data[0]) - slope * log(range_data[0])\n",
      "rint"
     ],
     "language": "python",
     "metadata": {},
     "outputs": [
      {
       "metadata": {},
       "output_type": "pyout",
       "prompt_number": 346,
       "text": [
        "3.9010907766258351"
       ]
      }
     ],
     "prompt_number": 346
    },
    {
     "cell_type": "code",
     "collapsed": false,
     "input": [
      "log(momentum_data[1])"
     ],
     "language": "python",
     "metadata": {},
     "outputs": [
      {
       "metadata": {},
       "output_type": "pyout",
       "prompt_number": 308,
       "text": [
        "4.0282047597175552"
       ]
      }
     ],
     "prompt_number": 308
    },
    {
     "cell_type": "code",
     "collapsed": false,
     "input": [
      "rng = np.linspace(np.log(range_data[0]), np.log(range_data[-1]), 2000)"
     ],
     "language": "python",
     "metadata": {},
     "outputs": [],
     "prompt_number": 338
    },
    {
     "cell_type": "code",
     "collapsed": false,
     "input": [
      "#def fn(x, a):\n",
      "#    return np.sqrt(a * (x - 3.8509983035903717)) - 0.16063834596281262\n",
      "def fn(x, a, b, c):\n",
      "    res = a * (x + b) ** 2 + c\n",
      "    #res = sqrt(a * abs(x - b)) + c\n",
      "    return res"
     ],
     "language": "python",
     "metadata": {},
     "outputs": [],
     "prompt_number": 323
    },
    {
     "cell_type": "code",
     "collapsed": false,
     "input": [
      "plot(np.log(range_data), np.log(momentum_data), 'k.')\n",
      "ylim((-2, 15))\n",
      "from scipy.optimize import curve_fit\n",
      "popt, _ = curve_fit(fn, np.log(range_data), np.log(momentum_data))\n",
      "plot(rng, fn(rng, *popt))"
     ],
     "language": "python",
     "metadata": {},
     "outputs": [
      {
       "metadata": {},
       "output_type": "pyout",
       "prompt_number": 327,
       "text": [
        "[<matplotlib.lines.Line2D at 0x15c9af10>]"
       ]
      },
      {
       "metadata": {},
       "output_type": "display_data",
       "png": "[encoded data removed]",
       "text": [
        "<matplotlib.figure.Figure at 0x157984d0>"
       ]
      }
     ],
     "prompt_number": 327
    },
    {
     "cell_type": "code",
     "collapsed": false,
     "input": [
      "lres = fn(np.log(range_data), *popt) - np.log(momentum_data)\n",
      "plot(np.log(momentum_data), lres, 'k.')"
     ],
     "language": "python",
     "metadata": {},
     "outputs": [
      {
       "metadata": {},
       "output_type": "pyout",
       "prompt_number": 325,
       "text": [
        "[<matplotlib.lines.Line2D at 0x157b7a90>]"
       ]
      },
      {
       "metadata": {},
       "output_type": "display_data",
       "png": "[encoded data removed]",
       "text": [
        "<matplotlib.figure.Figure at 0x15791e50>"
       ]
      }
     ],
     "prompt_number": 325
    },
    {
     "cell_type": "code",
     "collapsed": false,
     "input": [
      "range_data[3]"
     ],
     "language": "python",
     "metadata": {},
     "outputs": [
      {
       "metadata": {},
       "output_type": "pyout",
       "prompt_number": 333,
       "text": [
        "5.7000000000000002"
       ]
      }
     ],
     "prompt_number": 333
    },
    {
     "cell_type": "code",
     "collapsed": false,
     "input": [
      "a, b, c = popt\n",
      "a, b, c"
     ],
     "language": "python",
     "metadata": {},
     "outputs": [
      {
       "metadata": {},
       "output_type": "pyout",
       "prompt_number": 348,
       "text": [
        "(0.066278146047421563, 0.01506720229624511, 4.2081356458976158)"
       ]
      }
     ],
     "prompt_number": 348
    },
    {
     "cell_type": "code",
     "collapsed": false,
     "input": [
      "def newfit(x):\n",
      "    a, b, c = popt\n",
      "    res = a * (x + b) ** 2 + c\n",
      "    low_idx = x < log(range_data[3])\n",
      "    res[low_idx] = slope * x[low_idx] + rint\n",
      "    return res\n"
     ],
     "language": "python",
     "metadata": {},
     "outputs": [],
     "prompt_number": 335
    },
    {
     "cell_type": "code",
     "collapsed": false,
     "input": [
      "loglog(range_data, momentum_data, 'k.')\n",
      "#ylim((-2, 4))\n",
      "#xlim((3,6))\n",
      "plot(np.exp(rng), np.exp(newfit(rng)))\n",
      "xlabel(\"Range (g/cm^2)\")\n",
      "ylabel(\"Momentum (MeV/c)\")\n",
      "title(\"Fit to Groom 2001 Muon Range data\")"
     ],
     "language": "python",
     "metadata": {},
     "outputs": [
      {
       "metadata": {},
       "output_type": "pyout",
       "prompt_number": 339,
       "text": [
        "<matplotlib.text.Text at 0x1692f290>"
       ]
      },
      {
       "metadata": {},
       "output_type": "display_data",
       "png": "[encoded data removed]",
       "text": [
        "<matplotlib.figure.Figure at 0x1691e190>"
       ]
      }
     ],
     "prompt_number": 339
    },
    {
     "cell_type": "code",
     "collapsed": false,
     "input": [],
     "language": "python",
     "metadata": {},
     "outputs": []
    }
   ],
   "metadata": {}
  }
 ]
}